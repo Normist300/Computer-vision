{
 "cells": [
  {
   "cell_type": "code",
   "execution_count": 13,
   "id": "573836f6",
   "metadata": {},
   "outputs": [
    {
     "name": "stdout",
     "output_type": "stream",
     "text": [
      "Model: \"sequential_12\"\n",
      "_________________________________________________________________\n",
      " Layer (type)                Output Shape              Param #   \n",
      "=================================================================\n",
      " conv2d_36 (Conv2D)          (None, 254, 254, 3)       84        \n",
      "                                                                 \n",
      " max_pooling2d_12 (MaxPoolin  (None, 127, 127, 3)      0         \n",
      " g2D)                                                            \n",
      "                                                                 \n",
      " conv2d_37 (Conv2D)          (None, 121, 121, 6)       888       \n",
      "                                                                 \n",
      " average_pooling2d_24 (Avera  (None, 60, 60, 6)        0         \n",
      " gePooling2D)                                                    \n",
      "                                                                 \n",
      " conv2d_38 (Conv2D)          (None, 47, 47, 12)        14124     \n",
      "                                                                 \n",
      " average_pooling2d_25 (Avera  (None, 23, 23, 12)       0         \n",
      " gePooling2D)                                                    \n",
      "                                                                 \n",
      " flatten_7 (Flatten)         (None, 6348)              0         \n",
      "                                                                 \n",
      " dense_24 (Dense)            (None, 20)                126980    \n",
      "                                                                 \n",
      " dense_25 (Dense)            (None, 5)                 105       \n",
      "                                                                 \n",
      "=================================================================\n",
      "Total params: 142,181\n",
      "Trainable params: 142,181\n",
      "Non-trainable params: 0\n",
      "_________________________________________________________________\n"
     ]
    }
   ],
   "source": [
    "from keras.models import Sequential\n",
    "from keras.layers import Conv2D, MaxPooling2D, AveragePooling2D, Flatten, Dense\n",
    "\n",
    "model = Sequential()\n",
    "\n",
    "model.add(Conv2D(3, (3, 3), input_shape=(256, 256, 3)))\n",
    "model.add(MaxPooling2D((2, 2)))\n",
    "\n",
    "model.add(Conv2D(6, (7, 7)))\n",
    "model.add(AveragePooling2D((2, 2)))\n",
    "\n",
    "model.add(Conv2D(12, (14, 14)))\n",
    "model.add(AveragePooling2D((2, 2)))\n",
    "\n",
    "model.add(Flatten(name='flatten_7'))\n",
    "model.add(Dense(20, activation='linear'))\n",
    "model.add(Dense(5, activation='linear'))\n",
    "\n",
    "model.compile(optimizer='adam', loss='mse')\n",
    "\n",
    "model.summary()"
   ]
  }
 ],
 "metadata": {
  "kernelspec": {
   "display_name": "Python 3 (ipykernel)",
   "language": "python",
   "name": "python3"
  },
  "language_info": {
   "codemirror_mode": {
    "name": "ipython",
    "version": 3
   },
   "file_extension": ".py",
   "mimetype": "text/x-python",
   "name": "python",
   "nbconvert_exporter": "python",
   "pygments_lexer": "ipython3",
   "version": "3.9.13"
  }
 },
 "nbformat": 4,
 "nbformat_minor": 5
}
